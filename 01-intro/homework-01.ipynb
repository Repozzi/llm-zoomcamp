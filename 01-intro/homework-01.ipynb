{
 "cells": [
  {
   "cell_type": "code",
   "execution_count": 9,
   "id": "8f24ac2d-73f9-45dc-9032-42f60fc7efbc",
   "metadata": {},
   "outputs": [
    {
     "data": {
      "text/plain": [
       "True"
      ]
     },
     "execution_count": 9,
     "metadata": {},
     "output_type": "execute_result"
    }
   ],
   "source": [
    "import os\n",
    "from groq import Groq\n",
    "import pandas as pd\n",
    "from dotenv import load_dotenv\n",
    "\n",
    "load_dotenv()"
   ]
  },
  {
   "cell_type": "code",
   "execution_count": 10,
   "id": "32271a6f-83af-49e5-952e-62194f6c48b7",
   "metadata": {},
   "outputs": [],
   "source": [
    "client = Groq(api_key = os.environ.get(\"GROQ_API_KEY\"))\n"
   ]
  },
  {
   "cell_type": "code",
   "execution_count": 11,
   "id": "ba08ac2d-2de7-47a8-913c-6dd7168d90fa",
   "metadata": {},
   "outputs": [
    {
     "name": "stdout",
     "output_type": "stream",
     "text": [
      "It depends on which course you are referring to. Please provide more context or details about the course, such as the name of the institution offering it, the subject matter, and the start date of the course.\n",
      "\n",
      "In general, if the course has already started, it may still be possible to join, but you will need to contact the institution or the course instructor directly to inquire about the possibility of late enrollment. Some courses may allow late enrollment with certain conditions or requirements, while others may not allow it at all.\n",
      "\n",
      "If the course has not started yet, then it is probably not too late to join. You can typically enroll in a course up until its start date, or sometimes even a few days after it has started, depending on the policy of the institution.\n",
      "\n",
      "In any case, it is best to contact the institution or the course instructor directly to get the most accurate and up-to-date information.\n"
     ]
    }
   ],
   "source": [
    "response = client.chat.completions.create(\n",
    "    messages=[\n",
    "        {\n",
    "            \"role\": \"user\",\n",
    "            \"content\": \"is it too late to join the course?\",\n",
    "        }\n",
    "    ],\n",
    "    model=\"mixtral-8x7b-32768\",\n",
    ")\n",
    "print(response.choices[0].message.content)"
   ]
  },
  {
   "cell_type": "code",
   "execution_count": null,
   "id": "2f438f63",
   "metadata": {},
   "outputs": [],
   "source": []
  },
  {
   "cell_type": "code",
   "execution_count": null,
   "id": "678b7d61",
   "metadata": {},
   "outputs": [],
   "source": []
  }
 ],
 "metadata": {
  "kernelspec": {
   "display_name": "Python 3 (ipykernel)",
   "language": "python",
   "name": "python3"
  },
  "language_info": {
   "codemirror_mode": {
    "name": "ipython",
    "version": 3
   },
   "file_extension": ".py",
   "mimetype": "text/x-python",
   "name": "python",
   "nbconvert_exporter": "python",
   "pygments_lexer": "ipython3",
   "version": "3.10.14"
  }
 },
 "nbformat": 4,
 "nbformat_minor": 5
}
